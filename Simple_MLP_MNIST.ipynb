{
  "nbformat": 4,
  "nbformat_minor": 0,
  "metadata": {
    "colab": {
      "provenance": [],
      "authorship_tag": "ABX9TyPgqxqbDnq0gjK4p9Fm6wBO",
      "include_colab_link": true
    },
    "kernelspec": {
      "name": "python3",
      "display_name": "Python 3"
    },
    "language_info": {
      "name": "python"
    }
  },
  "cells": [
    {
      "cell_type": "markdown",
      "metadata": {
        "id": "view-in-github",
        "colab_type": "text"
      },
      "source": [
        "<a href=\"https://colab.research.google.com/github/DaveAsk/Data-Science/blob/main/Simple_MLP_MNIST.ipynb\" target=\"_parent\"><img src=\"https://colab.research.google.com/assets/colab-badge.svg\" alt=\"Open In Colab\"/></a>"
      ]
    },
    {
      "cell_type": "code",
      "execution_count": null,
      "metadata": {
        "id": "Wwob3Cbjt2Oq"
      },
      "outputs": [],
      "source": [
        "from keras import datasets, models, layers, optimizers, losses, utils\n",
        "import matplotlib.pyplot as plt\n",
        "import numpy as np"
      ]
    },
    {
      "cell_type": "code",
      "source": [
        "(train_img, train_lbl), (test_img, test_lbl) = datasets.mnist.load_data()"
      ],
      "metadata": {
        "colab": {
          "base_uri": "https://localhost:8080/"
        },
        "id": "qMwmK_oOuDRE",
        "outputId": "7241097e-84e6-4404-ed56-3944089ede96"
      },
      "execution_count": null,
      "outputs": [
        {
          "output_type": "stream",
          "name": "stdout",
          "text": [
            "Downloading data from https://storage.googleapis.com/tensorflow/tf-keras-datasets/mnist.npz\n",
            "11490434/11490434 [==============================] - 0s 0us/step\n"
          ]
        }
      ]
    },
    {
      "cell_type": "code",
      "source": [
        "X_train = train_img.reshape(60000, 784)\n",
        "X_test = test_img.reshape(10000, 784)"
      ],
      "metadata": {
        "id": "epkiAcLhuFYo"
      },
      "execution_count": null,
      "outputs": []
    },
    {
      "cell_type": "code",
      "source": [
        "X_train = X_train.astype('float')/255\n",
        "X_test = X_test.astype('float')/255"
      ],
      "metadata": {
        "id": "0OIO0jiyuHdA"
      },
      "execution_count": null,
      "outputs": []
    },
    {
      "cell_type": "code",
      "source": [
        "y_train=utils.to_categorical(train_lbl, 10)\n",
        "y_test=utils.to_categorical(test_lbl, 10)"
      ],
      "metadata": {
        "id": "jD2VwHiRuM6Y"
      },
      "execution_count": null,
      "outputs": []
    },
    {
      "cell_type": "code",
      "source": [
        "m1 = models.Sequential()\n",
        "m1.add(layers.Dense(500, activation='relu', input_shape=(784,)))\n",
        "m1.add(layers.Dense(250, activation='relu'))\n",
        "m1.add(layers.Dense(10, activation='softmax'))\n"
      ],
      "metadata": {
        "id": "IQGmwcb9uMzn"
      },
      "execution_count": null,
      "outputs": []
    },
    {
      "cell_type": "code",
      "source": [
        "m1.compile(optimizer=optimizers.legacy.SGD(learning_rate=0.00), loss=losses.categorical_crossentropy)"
      ],
      "metadata": {
        "id": "xwxTX1RSuUSz"
      },
      "execution_count": null,
      "outputs": []
    },
    {
      "cell_type": "code",
      "source": [
        "m1.fit(X_train, y_train, batch_size=128, epochs=20, validation_split=0.2)"
      ],
      "metadata": {
        "colab": {
          "base_uri": "https://localhost:8080/"
        },
        "id": "JyeX6YO1uXpT",
        "outputId": "e90b42f4-d826-4b51-a9b4-2f4d028a15c6"
      },
      "execution_count": null,
      "outputs": [
        {
          "output_type": "stream",
          "name": "stdout",
          "text": [
            "Epoch 1/20\n",
            "375/375 [==============================] - 3s 7ms/step - loss: 2.3273 - val_loss: 2.3249\n",
            "Epoch 2/20\n",
            "375/375 [==============================] - 3s 7ms/step - loss: 2.3273 - val_loss: 2.3249\n",
            "Epoch 3/20\n",
            "375/375 [==============================] - 3s 7ms/step - loss: 2.3273 - val_loss: 2.3249\n",
            "Epoch 4/20\n",
            "375/375 [==============================] - 3s 9ms/step - loss: 2.3273 - val_loss: 2.3249\n",
            "Epoch 5/20\n",
            "375/375 [==============================] - 3s 7ms/step - loss: 2.3273 - val_loss: 2.3249\n",
            "Epoch 6/20\n",
            "375/375 [==============================] - 2s 7ms/step - loss: 2.3273 - val_loss: 2.3249\n",
            "Epoch 7/20\n",
            "375/375 [==============================] - 3s 8ms/step - loss: 2.3273 - val_loss: 2.3249\n",
            "Epoch 8/20\n",
            "375/375 [==============================] - 3s 8ms/step - loss: 2.3273 - val_loss: 2.3249\n",
            "Epoch 9/20\n",
            "375/375 [==============================] - 3s 7ms/step - loss: 2.3273 - val_loss: 2.3249\n",
            "Epoch 10/20\n",
            "375/375 [==============================] - 2s 7ms/step - loss: 2.3273 - val_loss: 2.3249\n",
            "Epoch 11/20\n",
            "375/375 [==============================] - 3s 7ms/step - loss: 2.3273 - val_loss: 2.3249\n",
            "Epoch 12/20\n",
            "375/375 [==============================] - 2s 6ms/step - loss: 2.3273 - val_loss: 2.3249\n",
            "Epoch 13/20\n",
            "375/375 [==============================] - 3s 8ms/step - loss: 2.3273 - val_loss: 2.3249\n",
            "Epoch 14/20\n",
            "375/375 [==============================] - 3s 7ms/step - loss: 2.3273 - val_loss: 2.3249\n",
            "Epoch 15/20\n",
            "375/375 [==============================] - 2s 7ms/step - loss: 2.3273 - val_loss: 2.3249\n",
            "Epoch 16/20\n",
            "375/375 [==============================] - 2s 7ms/step - loss: 2.3273 - val_loss: 2.3249\n",
            "Epoch 17/20\n",
            "375/375 [==============================] - 3s 7ms/step - loss: 2.3273 - val_loss: 2.3249\n",
            "Epoch 18/20\n",
            "375/375 [==============================] - 3s 8ms/step - loss: 2.3273 - val_loss: 2.3249\n",
            "Epoch 19/20\n",
            "375/375 [==============================] - 3s 7ms/step - loss: 2.3273 - val_loss: 2.3249\n",
            "Epoch 20/20\n",
            "375/375 [==============================] - 2s 7ms/step - loss: 2.3273 - val_loss: 2.3249\n"
          ]
        },
        {
          "output_type": "execute_result",
          "data": {
            "text/plain": [
              "<keras.src.callbacks.History at 0x7e84c489d7b0>"
            ]
          },
          "metadata": {},
          "execution_count": 8
        }
      ]
    },
    {
      "cell_type": "code",
      "source": [
        "predictions = m1.predict(X_test)\n",
        "predicted_labels = np.argmax(predictions, axis=1)\n",
        "true_labels = np.argmax(y_test, axis=1)\n",
        "\n",
        "error_indices = np.where(predicted_labels != true_labels)[0]\n",
        "\n",
        "plt.figure(figsize=(10, 4))\n",
        "for i, idx in enumerate(error_indices[:10]):\n",
        "    plt.subplot(2, 5, i + 1)\n",
        "    plt.imshow(X_test[idx].reshape(28, 28), cmap='gray')\n",
        "    plt.title(f'True: {true_labels[idx]}, Predicted: {predicted_labels[idx]}')\n",
        "    plt.axis('off')\n",
        "\n",
        "plt.tight_layout()\n",
        "plt.show()\n"
      ],
      "metadata": {
        "id": "BmbshWs6uZzf",
        "colab": {
          "base_uri": "https://localhost:8080/",
          "height": 428
        },
        "outputId": "86213a06-4329-4f9e-cf5d-dfe41fa17863"
      },
      "execution_count": 9,
      "outputs": [
        {
          "output_type": "stream",
          "name": "stdout",
          "text": [
            "313/313 [==============================] - 1s 3ms/step\n"
          ]
        },
        {
          "output_type": "display_data",
          "data": {
            "text/plain": [
              "<Figure size 1000x400 with 10 Axes>"
            ],
            "image/png": "[encoded data removed]"
          },
          "metadata": {}
        }
      ]
    }
  ]
}